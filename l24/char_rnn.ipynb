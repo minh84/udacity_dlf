{
 "cells": [
  {
   "cell_type": "markdown",
   "metadata": {},
   "source": [
    "# Recurrent Neural Networks at character-level\n",
    "Recurrent Neural Networks (RNNs) are popular models in many NLP tasks such as\n",
    "\n",
    "* image captioning\n",
    "* sentiment analysis\n",
    "* machine translation\n",
    "* video classification\n",
    "\n",
    "But what is RNNs? In this notebook, we are going to learn about RNNs by implementing/training a vanilla RNNs to generate text character by character, the notebook covers the following topics\n",
    "\n",
    "* Brief introduction to RNN and some great resources on RNNs for interested readers\n",
    "* Detail model architecture with brief discussion on pros/cons of vanilla RNNs\n",
    "* Implement vanilla RNNs with Numpy\n",
    "* Implement vanilla RNNs with TensorFlow\n",
    "$\n",
    "\\newcommand{\\real}{\\mathbb{R}}\n",
    "\\newcommand{\\targets}{\\mathrm{targets}}\n",
    "\\newcommand{\\argmax}[1]{\\mathrm{arg}\\max_{#1}}\n",
    "\\newcommand{\\mvec}[1]{\\pmb{#1}}\n",
    "$\n",
    "\n",
    "# Introduction to RNNs\n",
    "Recall ourselves that we have been looking at [Vanilla Neural Networks](#) and [Convolutional Networks](#), they both share one limitation: \n",
    "\n",
    "<center>they accept a fixed-size vector (an image) as input and produce a fixed-size vector as output (scores of different classes). </center>\n",
    "\n",
    "Why is it limited? It's because in many problems, our inputs/outputs will have variable length e.g\n",
    "\n",
    "* in text translation the input can be a word or a sequence of words\n",
    "* in image captioning the output can be a word or a paragraph\n",
    "\n",
    "This's where RNNs comes in, it allows us to operate over sequences of input and generate a sequences of output. In this notebook we look at the vanilla RNNs which has following diagram\n",
    "\n",
    "![alt text](./vanilla_rnn_diagram.png \"Vanilla RNN diagram\")\n",
    "\n",
    "where \n",
    "\n",
    "* $h_0\\in \\real^H$ is initial hidden state with \n",
    "* $x_1,\\ldots,x_n\\in \\real^D$ is a sequence of input \n",
    "* $h_1,\\ldots,h_n\\in \\real^H$ is a sequence of hidden states\n",
    "* $y_1,\\ldots,y_n\\in \\real^C$ is a sequence of output\n",
    "\n",
    "The vanilla RNNs has following dynamics\n",
    "$$\n",
    "\\left\\{\\begin{array}{rl}\n",
    "h_t &= \\tanh\\left(W_{xh} \\times x_{t} + W_{hh}\\times h_{t-1} + b_h\\right)\\\\\n",
    "y_t &= W_{hy} \\times h_t + b_y\n",
    "\\end{array}\n",
    "\\right.\n",
    "$$\n",
    "\n",
    "## Model architecture for char-RNNs\n",
    "In this notebook, we want to use character-wise RNNs, let's look at how we can choose $H, D, C$\n",
    "\n",
    "* $H$ is a hyper-parameter to control hidden-size so we choose whatever makes RNNs works best (Note that in image-captioning sometime if we can take $h_0$ as output of NNs/CNNs for example *fc7* of AlexNet then $H$ has same size as output of *fc7*)\n",
    "* $D$ is input size, and we use one-hot encoding for character so $D=$ number of characters e.g if our characters is only English lower case (26 characters) then we have $D=26$ and\n",
    "$$\n",
    "\\text{\"a\"} \\mapsto \\left(\\begin{array}{c}1\\\\\n",
    "0\\\\\n",
    "\\vdots\\\\\n",
    "0\n",
    "\\end{array}\\right)_{26\\times 1}\n",
    "$$\n",
    "Normally, we will load all the text-data, then get the unique list of our characters and then set $D$ is the size of that unique list (see the implementation for more detail)\n",
    "* $C$ is output size, in our example we have $C=D$ since the output is also characters. For other application e.g image captioning, $C$ will be the size of vocabulary while $D$ is the size of image input.\n",
    "* $n$ is the length of input sequence, in this notebook we use $n=25$.\n",
    "\n",
    "To understand better the forward pass of RNNs, we look at example from [Karpathy](http://karpathy.github.io/2015/05/21/rnn-effectiveness/)\n",
    "<img src=\"./charseq.jpeg\" alt=\"hello example\" style=\"width: 500px;\"/>\n",
    "\n",
    "In above example, the RNNs takes input sequences \"h\", \"e\", \"l\", \"l\" and it wants to compute scores output sequence, the target sequence is \"e\", \"l\", \"l\", \"o\". \n",
    "\n",
    "More generally, we will feed the RNN a huge chunk of text and ask it to train $W_{xh}, W_{hh}, b_h, W_{hy}, b_{y}$ so it can model the probability distribution of the next character given a sequence of previous characters i.e\n",
    "* given input-sequence $x_1,\\ldots,x_n$ \n",
    "* and target-sequence $\\targets_1,\\ldots\\targets_n$\n",
    "* RNNs forward pass gives us $y_1,\\ldots,y_n$ which allows us to models the distribution $p_t$ of output sequence  using following form\n",
    "$$\n",
    "p_t[c] = p(\\targets_t = c) = \\frac{\\exp(y_t[c])}{\\sum_{c=1}^{26}\\exp(y_t[c])}\n",
    "$$\n",
    "$p_t$ is the probability distribution over character at $t-th$ position of output sequence. Note here, given a trained model, we can use $p_t$ to predicts the character at time $t$ as such \n",
    "$$c_t = \\argmax{c}p_t[c]$$\n",
    "\n",
    "In order to train $W_{xh}, W_{hh}, b_h, W_{hy}, b_{y}$, we need to define an objective function (cost function), and here we use the **Softmax** loss function (also commonly referred to as the cross-entropy loss)\n",
    "$$\n",
    "L_t(y_t, \\targets_t) = - \\log\\left(p_t[\\targets_t]\\right)\n",
    "$$\n",
    "Intuitively, by minimizing loss function, it's equivalent to maximize the chance $p_t[\\targets_t]$ close to 1.0 (in other word it predicts correct next character).\n",
    "\n",
    "## RNNs resources\n",
    "We have done a brief introduction on RNNs (quite a long one), for anyone interested in knowing more about RNNs and LSTMs please check out few great blog posts\n",
    "1. [The Unreasonable Effectiveness of Recurrent Neural Networks](http://karpathy.github.io/2015/05/21/rnn-effectiveness/), by Andrej Karpathy\n",
    "2. [Understanding LSTM Networks](http://colah.github.io/posts/2015-08-Understanding-LSTMs/), by Christopher Olah\n",
    "\n",
    "Let's do some implementation on character-wise RNNs\n",
    "\n",
    "# Implementing character-wise RNN (char-RNN)\n",
    "First let import some python module that we use though this notebook"
   ]
  },
  {
   "cell_type": "code",
   "execution_count": 1,
   "metadata": {
    "collapsed": false
   },
   "outputs": [],
   "source": [
    "import time\n",
    "import numpy as np\n",
    "import tensorflow as tf\n",
    "import matplotlib.pyplot as plt\n",
    "from collections import namedtuple\n",
    "\n",
    "%matplotlib inline\n",
    "plt.rcParams['figure.figsize'] = (10.0, 8.0) # set default size of plots\n",
    "plt.rcParams['image.interpolation'] = 'nearest'\n",
    "plt.rcParams['image.cmap'] = 'gray'\n",
    "\n",
    "# for auto-reloading external modules\n",
    "# see http://stackoverflow.com/questions/1907993/autoreload-of-modules-in-ipython\n",
    "%load_ext autoreload\n",
    "%autoreload 2"
   ]
  },
  {
   "cell_type": "markdown",
   "metadata": {},
   "source": [
    "# Preparing training data\n",
    "We will train our char-RNN on Anna Karenina (anna.txt), we need to load our data into memory to get the character-sizes ($D$ and $C$)"
   ]
  },
  {
   "cell_type": "code",
   "execution_count": 2,
   "metadata": {
    "collapsed": false
   },
   "outputs": [
    {
     "name": "stdout",
     "output_type": "stream",
     "text": [
      "our input has 83 unique characters\n"
     ]
    }
   ],
   "source": [
    "text = None\n",
    "with open('anna.txt', 'r') as f:\n",
    "    text = f.read()\n",
    "\n",
    "# build set of all characters\n",
    "ch_set = set(text)\n",
    "ch_size = len(ch_set)\n",
    "print('our input has %d unique characters' % ch_size)\n",
    "\n",
    "# helper dictionary to map char -> index and inversely\n",
    "ch_to_int = {c:i for i,c in enumerate(ch_set)}\n",
    "int_to_ch = dict(enumerate(ch_set))\n",
    "\n",
    "# convert text to numerics input data\n",
    "datas = np.array([ch_to_int[c] for c in text], dtype = np.int32)"
   ]
  },
  {
   "cell_type": "code",
   "execution_count": 3,
   "metadata": {
    "collapsed": false
   },
   "outputs": [
    {
     "data": {
      "text/plain": [
       "'Chapter 1\\n\\n\\nHappy families are all alike; every unhappy family is unhappy in its own\\nway.\\n\\nEverythin'"
      ]
     },
     "execution_count": 3,
     "metadata": {},
     "output_type": "execute_result"
    }
   ],
   "source": [
    "text[:100]"
   ]
  },
  {
   "cell_type": "code",
   "execution_count": 4,
   "metadata": {
    "collapsed": false
   },
   "outputs": [
    {
     "data": {
      "text/plain": [
       "array([35, 18, 72, 61, 19, 52, 49, 60, 39, 44, 44, 44,  6, 72, 61, 61, 31,\n",
       "       60, 66, 72, 65, 50, 62, 50, 52, 58, 60, 72, 49, 52, 60, 72, 62, 62,\n",
       "       60, 72, 62, 50, 33, 52,  0, 60, 52, 16, 52, 49, 31, 60, 32, 81, 18,\n",
       "       72, 61, 61, 31, 60, 66, 72, 65, 50, 62, 31, 60, 50, 58, 60, 32, 81,\n",
       "       18, 72, 61, 61, 31, 60, 50, 81, 60, 50, 19, 58, 60, 40, 71, 81, 44,\n",
       "       71, 72, 31, 82, 44, 44, 55, 16, 52, 49, 31, 19, 18, 50, 81], dtype=int32)"
      ]
     },
     "execution_count": 4,
     "metadata": {},
     "output_type": "execute_result"
    }
   ],
   "source": [
    "datas[:100]"
   ]
  },
  {
   "cell_type": "markdown",
   "metadata": {},
   "source": [
    "We need to split up data into batches and into training & validation sets (using the split_frac argument). We are not making a test set here, instead we will test if our model can generate new text (that makes some sense).\n",
    "\n",
    "We use the 2D-matrix to store input-data and target-data where \n",
    "\n",
    "* each row is a long concatenated string from the character data\n",
    "* the number of rows is equal to the batch_size (number of sample in each batch)\n",
    "\n",
    "The idea is given **matrix_data**, to get a batch of samples of *seq_len*, we can have a sliding windows \n",
    "$$\\mathrm{matrix\\_data}[:, p:p+seq\\_len]$$\n",
    "which gives batch_size rows and each row is a sequence has seq_len characters."
   ]
  },
  {
   "cell_type": "code",
   "execution_count": 3,
   "metadata": {
    "collapsed": false
   },
   "outputs": [
    {
     "name": "stdout",
     "output_type": "stream",
     "text": [
      "(50, 35725)\n",
      "(50, 3975)\n"
     ]
    }
   ],
   "source": [
    "def split_data(datas, batch_size, seq_len, split_frac = 0.9):\n",
    "    '''\n",
    "    Split datas into training and validation sets, inputs & targets for each set.\n",
    "    \n",
    "    Arguments\n",
    "    ------------------------\n",
    "    datas : character input (in numerics format)\n",
    "    batch_size: size of each batch\n",
    "    seq_len: length of each sequence\n",
    "    split_frac: fraction of batches to keep in the training set\n",
    "    \n",
    "    Returns train_x, train_y, val_x, val_y\n",
    "    '''\n",
    "    # get size of each batch & number of batches\n",
    "    slice_size = batch_size * seq_len\n",
    "    n_batches = len(datas) // slice_size\n",
    "    \n",
    "    # put data into x & y, note here y is x shifted to the right one\n",
    "    x = datas[:n_batches * slice_size]\n",
    "    y = datas[1: 1 + n_batches * slice_size]\n",
    "    \n",
    "    # split x & y to batch_size slices, then stack them into 2D matrix => each row is a sequence input\n",
    "    x = np.stack(np.split(x, batch_size))\n",
    "    y = np.stack(np.split(y, batch_size))\n",
    "    \n",
    "    # split into training and validation sets\n",
    "    split_idx = int(n_batches * split_frac)\n",
    "    train_x, train_y = x[:, : split_idx * seq_len], y[:, : split_idx * seq_len]\n",
    "    val_x, val_y = x[:, split_idx * seq_len :], y[:, split_idx * seq_len :]\n",
    "    \n",
    "    return train_x, train_y, val_x, val_y\n",
    "    \n",
    "batch_size = 50\n",
    "seq_len = 25\n",
    "train_x, train_y, val_x, val_y = split_data(datas, batch_size, seq_len)\n",
    "\n",
    "print (train_x.shape)\n",
    "print (val_x.shape)"
   ]
  },
  {
   "cell_type": "markdown",
   "metadata": {},
   "source": [
    "## Forward pass\n",
    "Let first implement the forward pass \n",
    "\n",
    "* denote $\\vec{x}=(x_1,\\ldots,x_n)$ the input-sequence\n",
    "* denote $\\vec{\\targets} = (\\targets_1,\\ldots,\\targets_n)$ the target-sequence\n",
    "* given $W_{xh}, W_{hh}, b_h, W_{hy}, b_y$,and initial hidden state $h_0$, \n",
    "\n",
    "we want to compute the scores output\n",
    "$$\n",
    "\\vec{y} = (y_1, \\ldots, y_n) \n",
    "$$\n",
    "and the Softmax loss\n",
    "$$\n",
    "L(\\vec{y},\\vec{\\targets}) = \\sum_{t} L_t(y_t, \\targets_t)\n",
    "$$"
   ]
  },
  {
   "cell_type": "code",
   "execution_count": 6,
   "metadata": {
    "collapsed": false
   },
   "outputs": [],
   "source": [
    "def rnn_forward_one_sample(x, targets, h_prev, params):\n",
    "    '''\n",
    "    Implements the forward pass for rnn\n",
    "    \n",
    "    Arguments\n",
    "    ------------------------------\n",
    "        x: input data\n",
    "        targets: input targets\n",
    "        h_prev: hidden state at t=0\n",
    "        params: a tuple of model parameters (Wxh, Whh, Why, bh, by)\n",
    "    Returns \n",
    "        loss: the softmax loss\n",
    "        cache: the cache to be used in backward pass\n",
    "    '''\n",
    "    seq_len = len(x)\n",
    "    Wxh, Whh, Why, bh, by = params\n",
    "    \n",
    "    # convert input to one-hot encoding\n",
    "    xs, hs, ys, ps = {}, {}, {}, {}\n",
    "    \n",
    "    # previous hidden state\n",
    "    hs[-1] = np.copy(h_prev)\n",
    "    \n",
    "    loss = 0.0\n",
    "    for t in range(seq_len):\n",
    "        # one-hot xs\n",
    "        xs[t] = np.zeros((ch_size, 1))\n",
    "        xs[t][x[t]] = 1.0\n",
    "        \n",
    "        # update hidden state\n",
    "        hs[t] = np.tanh(Wxh.dot(xs[t]) + Whh.dot(hs[t-1]) + bh)\n",
    "        \n",
    "        # update scores & probab\n",
    "        ys[t] = Why.dot(hs[t]) + by\n",
    "        tmp = np.exp(ys[t])\n",
    "        ps[t] = tmp/np.sum(tmp)\n",
    "        tmp = -np.log(ps[t][targets[t], 0])        \n",
    "        loss += tmp\n",
    "\n",
    "    cache = (xs, hs, ps, targets)\n",
    "    return loss, cache"
   ]
  },
  {
   "cell_type": "code",
   "execution_count": 7,
   "metadata": {
    "collapsed": false
   },
   "outputs": [],
   "source": [
    "hidden_size = 128\n",
    "h0 = np.zeros((hidden_size, 1))\n",
    "Wxh = np.random.randn(hidden_size, ch_size) * 1e-3\n",
    "Whh = np.random.randn(hidden_size, hidden_size) * 1e-3\n",
    "Why = np.random.randn(ch_size, hidden_size) * 1e-3\n",
    "bh = np.zeros((hidden_size,1))\n",
    "by = np.zeros((ch_size,1))\n",
    "params = (Wxh, Whh, Why, bh, by)"
   ]
  },
  {
   "cell_type": "code",
   "execution_count": 8,
   "metadata": {
    "collapsed": false
   },
   "outputs": [
    {
     "name": "stdout",
     "output_type": "stream",
     "text": [
      "13.2564973924\n"
     ]
    }
   ],
   "source": [
    "test_len = 3\n",
    "loss, cache = rnn_forward_one_sample(train_x[0,0:test_len], train_y[0, 0: test_len], h0, params)\n",
    "print (loss)"
   ]
  },
  {
   "cell_type": "markdown",
   "metadata": {},
   "source": [
    "## Backward propagation\n",
    "Note that the loss function is\n",
    "$$\n",
    "L = \\sum_t{L_t(y_t,\\targets_t)}\n",
    "$$\n",
    "So first we need to compute\n",
    "$$\n",
    "\\nabla_{y_t}L_t(y_t,\\targets_t)\n",
    "$$\n",
    "Recall from previous notebook on [Softmax loss](https://minh84.github.io/ml-examples/demos/learn_tf/02-linear-classifier-softmax/), we have\n",
    "$$\n",
    "\\nabla_{y_t}L_t(y_t,\\targets_t) = p_t - \\mathrm{eye}[\\targets_t]\n",
    "$$\n",
    "where $\\mathrm{eye}[\\targets_t]$ is $\\targets_t$-th row of the identity matrix (note here we use [np.eye](https://docs.scipy.org/doc/numpy/reference/generated/numpy.eye.html).\n",
    "\n",
    "Next backward-propagation from scores $y_t$ to hidden-state $h_t$, note that \n",
    "$$\n",
    "y_t = W_{hy} h_t + b_y\n",
    "$$\n",
    "which is a linear function, so we can derive the backward derivative on $h_t, W_{hy}, b_y$ as\n",
    "\\begin{align*}\n",
    "\\nabla_{h_t}L_t &= (W_{hy})^T \\times \\nabla_{y_t}L_t(y_t,\\targets_t)\\\\\n",
    "\\nabla_{W_{hy}}L_t &= \\nabla_{y_t}L_t(y_t,\\targets_t) \\times \\left(h_t\\right)^T\\\\\n",
    "\\nabla_{b}L_t &= \\nabla_{y_t}L_t(y_t,\\targets_t)\n",
    "\\end{align*}\n",
    "Note here since we share $W_{hy}, b_y$ accross $t$ the derivative on these term need to be added up.\n",
    "\n",
    "Now look at the hidden-state, since we have\n",
    "$$\n",
    "h_t = \\tanh(W_{xh} \\times x_t + W_{hh} \\times h_{t-1} + b_h)\n",
    "$$\n",
    "and $\\frac{\\partial \\tanh(x)}{\\partial x} = 1 - \\left(\\tanh(x)\\right)^2$\n",
    "\n",
    "Then given $\\nabla_{h_t}L_t$, we derive the following gradient\n",
    "\\begin{align*}\n",
    "\\nabla_{h_{t-1}}L_t &= (1.0 - h_t^2) \\odot \\left(W_{hh}\\right)^T\\times \\nabla_{h_t}L_t\\\\\n",
    "\\nabla_{W_{xh}}L_t &= (1.0 - h_t^2) \\odot \\nabla_{h_t}L_t \\times (x_t)^T\\\\\n",
    "\\nabla_{W_{hh}}L_t &= (1.0 - h_t^2) \\odot \\nabla_{h_t}L_t \\times (h_{t-1})^T\\\\\n",
    "\\nabla_{b_{h}}L_t &= (1.0 - h_t^2) \\odot \\nabla_{h_t}L_t\n",
    "\\end{align*}\n",
    "Note here we need actually compute\n",
    "$$\n",
    "\\nabla_{h_t} \\sum_{t}L_t\n",
    "$$\n",
    "And we notice that in forward pass $h_t$ only affect $L_k$ for $k\\geq t$, so at each time step $t$ we have two term\n",
    "$$\n",
    "\\nabla_{h_t} \\sum_{t}L_t = \\nabla_{h_t} L_t + \\nabla_{h_t} \\sum_{k>t}L_k\n",
    "$$\n",
    "And the second term has following recursive form\n",
    "$$\n",
    "\\nabla_{h_t} \\sum_{k>t}L_k = \\left\\{\n",
    "\\begin{array}{cl}\n",
    "0 & \\text{if } t=n\\\\\n",
    "(1.0 - h_{t+1}^2) \\odot \\left(W_{hh}\\right)^T\\times \\left(\\nabla_{h_{t+1}}L_{t+1} + \\nabla_{h_{t+1}} \\sum_{k>t+1}L_k\\right) & \\text{otherwise i.e } t < n\n",
    "\\end{array}\n",
    "\\right.\n",
    "$$\n",
    "We will see in the code below\n",
    "\\begin{align*}\n",
    "\\nabla_{h_t} \\sum_{k>t}L_k &= \\textit{dhnext}\\\\\n",
    "\\nabla_{h_t} L_t &= \\textit{np.dot(Why.T, dy)}\\\\\n",
    "\\nabla_{h_t} L &= \\textit{np.dot(Why.T, dy) + dhnext}\n",
    "\\end{align*}\n"
   ]
  },
  {
   "cell_type": "code",
   "execution_count": 9,
   "metadata": {
    "collapsed": true
   },
   "outputs": [],
   "source": [
    "def rnn_backward_one_sample(cache, params):\n",
    "    '''\n",
    "    Implement the backward propagation for rnn\n",
    "    \n",
    "    Arguments\n",
    "    ----------------------\n",
    "        cache = (xs, hs, ps, targets) \n",
    "        params = (Wxh, Whh, Why, bh, by)\n",
    "    \n",
    "    Return \n",
    "        dWxh, dWhh, dWhy, dbh, dby\n",
    "    '''\n",
    "    xs, hs, ps, targets = cache\n",
    "    seq_len = len(xs)\n",
    "    dhnext = np.zeros_like(hs[0])\n",
    "    Wxh, Whh, Why, bh, by = params\n",
    "    \n",
    "    dWxh = np.zeros_like(Wxh)\n",
    "    dWhh = np.zeros_like(Whh)\n",
    "    dWhy = np.zeros_like(Why)\n",
    "    dbh  = np.zeros_like(bh)\n",
    "    dby  = np.zeros_like(by)\n",
    "    dhs = []\n",
    "    for t in reversed(range(seq_len)):\n",
    "        dy = np.copy(ps[t])\n",
    "        dy[targets[t]] -= 1 # backward to y see above formula\n",
    "        \n",
    "        # backward to W_hy & b_y and some accross t\n",
    "        dWhy += np.dot(dy, hs[t].T)\n",
    "        dby += dy\n",
    "        \n",
    "        # backward to dy_t(L_t) -> dh_t (L_t) + the one from \\sum_{k>t}L_k\n",
    "        dh = np.dot(Why.T, dy) + dhnext\n",
    "        \n",
    "        dhs.append(dhnext)\n",
    "        \n",
    "        # backward tanh\n",
    "        dhraw = (1.0 - hs[t] * hs[t]) * dh\n",
    "        \n",
    "        # backward to bh, Wxh, Whh\n",
    "        dbh  += dhraw\n",
    "        dWxh += np.dot(dhraw, xs[t].T)\n",
    "        dWhh += np.dot(dhraw, hs[t-1].T)\n",
    "        \n",
    "        # propagate dhnext for dh_{t-1}(\\sum_{k>=t}L_k)\n",
    "        dhnext = np.dot(Whh.T, dhraw)\n",
    "    return dWxh, dWhh, dWhy, dbh, dby, np.array(dhs)\n",
    "\n",
    "def loss_rnn_one_sample(x, targets, h_prev, params):\n",
    "    '''\n",
    "    Implement one forward-pass compute the loss and one backward-pass to compute gradient\n",
    "    \n",
    "    Arguments\n",
    "    --------------------\n",
    "        x: input sequence\n",
    "        targets: target sequence\n",
    "        h_prev: previous hidden state\n",
    "        params: a tuple of (Wxh, Whh, Why, bh, by)\n",
    "    \n",
    "    Return\n",
    "        loss, dWxh, dWhh, dWhy, dbh, dby and hidden-state for next sequence\n",
    "    '''\n",
    "    seq_len = len(x)\n",
    "    loss, cache = rnn_forward_one_sample(x, targets, h_prev, params)\n",
    "    dWxh, dWhh, dWhy, dbh, dby, dhs = rnn_backward_one_sample(cache, params)\n",
    "    hs = cache[1]\n",
    "    return loss, dWxh, dWhh, dWhy, dbh, dby, hs[seq_len - 1], dhs[-1]"
   ]
  },
  {
   "cell_type": "markdown",
   "metadata": {},
   "source": [
    "## Numerical testing\n",
    "It's always go idea to test our implementation via numerical gradient"
   ]
  },
  {
   "cell_type": "code",
   "execution_count": 34,
   "metadata": {
    "collapsed": true
   },
   "outputs": [],
   "source": [
    "# we reduce number of hidden_size so that we can test it quicker\n",
    "hidden_size = 10\n",
    "test_len = 3\n",
    "\n",
    "h0 = np.zeros((hidden_size, 1))\n",
    "Wxh = np.random.randn(hidden_size, ch_size) \n",
    "Whh = np.random.randn(hidden_size, hidden_size)\n",
    "Why = np.random.randn(ch_size, hidden_size)\n",
    "bh = np.zeros((hidden_size,1))\n",
    "by = np.zeros((ch_size,1))"
   ]
  },
  {
   "cell_type": "code",
   "execution_count": 35,
   "metadata": {
    "collapsed": false
   },
   "outputs": [
    {
     "name": "stdout",
     "output_type": "stream",
     "text": [
      "Loss:   31.98509\n",
      "Rel error dWxh: 1.19144e-06\n",
      "Rel error dWhh: 5.05316e-08\n",
      "Rel error dWhy: 3.42830e-05\n",
      "Rel error dbh:  3.11615e-10\n",
      "Rel error dby:  5.52779e-06\n"
     ]
    }
   ],
   "source": [
    "from gradient_check import grad_check_sparse, eval_numerical_gradient, rel_error\n",
    "\n",
    "params = (Wxh, Whh, Why, bh, by)\n",
    "\n",
    "x, targets = train_x[0,0:test_len], train_y[0, 0: test_len]\n",
    "loss, dWxh, dWhh, dWhy, dbh, dby, hnext,_ = loss_rnn_one_sample(x, targets, h0, params)\n",
    "\n",
    "f = lambda wxh : loss_rnn_one_sample(x, targets, h0, (wxh, Whh, Why, bh, by))[0]\n",
    "grad_Wxh = eval_numerical_gradient(f, Wxh, verbose = False)\n",
    "\n",
    "f = lambda whh : loss_rnn_one_sample(x, targets, h0, (Wxh, whh, Why, bh, by))[0]\n",
    "grad_Whh = eval_numerical_gradient(f, Whh, verbose = False)\n",
    "\n",
    "f = lambda why : loss_rnn_one_sample(x, targets, h0, (Wxh, Whh, why, bh, by))[0]\n",
    "grad_Why = eval_numerical_gradient(f, Why, verbose = False)\n",
    "\n",
    "f = lambda b_h : loss_rnn_one_sample(x, targets, h0, (Wxh, Whh, Why, b_h, by))[0]\n",
    "grad_bh = eval_numerical_gradient(f, bh, verbose = False)\n",
    "\n",
    "f = lambda b_y : loss_rnn_one_sample(x, targets, h0, (Wxh, Whh, Why, bh, b_y))[0]\n",
    "grad_by = eval_numerical_gradient(f, by, verbose = False)\n",
    "\n",
    "print ('Loss: {:10.5f}'.format(loss))\n",
    "print('Rel error dWxh: {:10.5e}'.format(rel_error(dWxh, grad_Wxh)))\n",
    "print('Rel error dWhh: {:10.5e}'.format(rel_error(dWhh, grad_Whh)))\n",
    "print('Rel error dWhy: {:10.5e}'.format(rel_error(dWhy, grad_Why)))\n",
    "print('Rel error dbh:  {:10.5e}'.format(rel_error(dbh, grad_bh)))\n",
    "print('Rel error dby:  {:10.5e}'.format(rel_error(dby, grad_by)))"
   ]
  },
  {
   "cell_type": "markdown",
   "metadata": {},
   "source": [
    "The results look correct, to double-check it, now let's try to implement char-RNN in TensorFlows. Also TensorFlows allows us to extend RNN very well.\n",
    "\n",
    "## Vanilla char-RNN with TensorFlow\n",
    "In this part we will learn how to\n",
    "\n",
    "* Use one-hot encoding in TensorFlow with [tf.one_hot](https://www.tensorflow.org/api_docs/python/tf/one_hot)\n",
    "* Split/concat array data with [tf.split](https://www.tensorflow.org/api_docs/python/tf/split)/[tf.concat](https://www.tensorflow.org/api_docs/python/tf/concat)\n",
    "* Implement rnn forward/backward for one sample in TensorFlows, then look at two issue with vanilla-RNN\n",
    "    * Gradient exploding\n",
    "    * Gradient vanishing\n",
    "* Implement rnn with mini-batches using [tf.contrib.rnn.BasicRNNCell](https://www.tensorflow.org/api_docs/python/tf/contrib/rnn/BasicRNNCell)"
   ]
  },
  {
   "cell_type": "code",
   "execution_count": 36,
   "metadata": {
    "collapsed": false
   },
   "outputs": [
    {
     "name": "stdout",
     "output_type": "stream",
     "text": [
      "loss:  31.9850876069\n",
      "Rel error loss: 0.00000e+00\n",
      "Rel error dWxh: 1.05926e-12\n",
      "Rel error dWxh: 3.94742e-14\n",
      "Rel error dWxh: 9.02872e-14\n",
      "Rel error dWxh: 4.93427e-16\n",
      "Rel error dWxh: 8.92087e-16\n"
     ]
    }
   ],
   "source": [
    "# reset default graph\n",
    "tf.reset_default_graph()\n",
    "\n",
    "seq_len = test_len\n",
    "\n",
    "# define input placeholder and tensor h0\n",
    "vx = tf.placeholder(tf.int32, [seq_len], name = 'input')\n",
    "vy = tf.placeholder(tf.int32, [seq_len], name = 'target')\n",
    "vh0 = tf.zeros([hidden_size, 1], dtype=tf.float64)\n",
    "\n",
    "# one hot encoding\n",
    "vx_one_hot = tf.one_hot(vx, ch_size, dtype=tf.float64)\n",
    "\n",
    "# define basic rnn\n",
    "cell = tf.contrib.rnn.BasicRNNCell(hidden_size)\n",
    "\n",
    "### Run the data through the RNN layers\n",
    "# This makes a list where each element is on step in the sequence\n",
    "rnn_inputs = tf.split(vx_one_hot, seq_len, axis=0)\n",
    "\n",
    "with tf.variable_scope('hidden'):\n",
    "    vWxh = tf.Variable(Wxh, name = 'Wxh', dtype=tf.float64)\n",
    "    vWhh = tf.Variable(Whh, name = 'Whh', dtype=tf.float64)\n",
    "    vbh = tf.Variable(bh, name = 'bh', dtype=tf.float64)    \n",
    "\n",
    "with tf.variable_scope('softmax'):\n",
    "    vWhy = tf.Variable(Why, name = 'Why', dtype=tf.float64)\n",
    "    vby = tf.Variable(by, name = 'by', dtype=tf.float64)\n",
    "\n",
    "vhs_t = vh0    \n",
    "ys = []\n",
    "for t, xs_t in enumerate(rnn_inputs):\n",
    "    # we need transpose xs_t since TensorFlow takes vector-input by row, here we want column with shape (ch_size, 1)\n",
    "    vhs_t = tf.tanh(tf.matmul(vWxh, tf.transpose(xs_t)) + tf.matmul(vWhh, vhs_t) + vbh)\n",
    "    \n",
    "    # the form is exactly as in numpy's implementation\n",
    "    ys_t = tf.matmul(vWhy, vhs_t) + vby    \n",
    "    ys.append(ys_t)\n",
    "\n",
    "# we need to stack (ys_t)^T in each row so that we can use tf.nn.sparse_softmax_cross_entropy_with_logits\n",
    "output = tf.transpose(tf.concat(ys,axis=1))\n",
    "\n",
    "# get the Softmax and gradient\n",
    "cost = tf.reduce_sum(tf.nn.sparse_softmax_cross_entropy_with_logits(logits = output, labels=vy))\n",
    "grad = tf.gradients(cost, [vWxh, vWhh, vWhy, vbh, vby])\n",
    "\n",
    "# run test\n",
    "with tf.Session() as sess:\n",
    "    sess.run(tf.global_variables_initializer())    \n",
    "    loss_tf, grad_tf = sess.run([cost, grad], feed_dict = {vx : x, vy : targets})   \n",
    "    print ('loss: ', loss_tf)\n",
    "    print('Rel error loss: {:10.5e}'.format(rel_error(loss, loss_tf)))\n",
    "    print('Rel error dWxh: {:10.5e}'.format(rel_error(dWxh, grad_tf[0])))\n",
    "    print('Rel error dWxh: {:10.5e}'.format(rel_error(dWhh, grad_tf[1])))\n",
    "    print('Rel error dWxh: {:10.5e}'.format(rel_error(dWhy, grad_tf[2])))\n",
    "    print('Rel error dWxh: {:10.5e}'.format(rel_error(dbh, grad_tf[3])))\n",
    "    print('Rel error dWxh: {:10.5e}'.format(rel_error(dby, grad_tf[4])))"
   ]
  },
  {
   "cell_type": "markdown",
   "metadata": {},
   "source": [
    "For single sample, we can see that the results obtained by TensorFlow are very close to result obtained by numpy as expected.\n",
    "\n",
    "Now let's look at two issues with Vanilla-RNN\n",
    "\n",
    "* Gradient exploding\n",
    "* Gradient vanishing"
   ]
  },
  {
   "cell_type": "code",
   "execution_count": 30,
   "metadata": {
    "collapsed": false
   },
   "outputs": [],
   "source": [
    "test_hidden_size = 3\n",
    "\n",
    "h0 = np.zeros((test_hidden_size, 1))\n",
    "test_Wxh = np.zeros((test_hidden_size, ch_size))\n",
    "test_Wxh[range(test_hidden_size), range(test_hidden_size)] = 1.0\n",
    "test_Why = np.zeros((ch_size, test_hidden_size))\n",
    "test_Why[range(test_hidden_size), range(test_hidden_size)] = 1.0\n",
    "\n",
    "test_bh = np.zeros((test_hidden_size,1))\n",
    "test_by = np.zeros((ch_size,1))\n"
   ]
  },
  {
   "cell_type": "code",
   "execution_count": 31,
   "metadata": {
    "collapsed": false
   },
   "outputs": [
    {
     "data": {
      "image/png": "[encoded data removed]",
      "text/plain": [
       "<matplotlib.figure.Figure at 0x7f5154710710>"
      ]
     },
     "metadata": {},
     "output_type": "display_data"
    },
    {
     "data": {
      "image/png": "[encoded data removed]",
      "text/plain": [
       "<matplotlib.figure.Figure at 0x7f51541dcb38>"
      ]
     },
     "metadata": {},
     "output_type": "display_data"
    },
    {
     "data": {
      "text/plain": [
       "[<matplotlib.lines.Line2D at 0x7f51540ef668>]"
      ]
     },
     "execution_count": 31,
     "metadata": {},
     "output_type": "execute_result"
    },
    {
     "data": {
      "image/png": "[encoded data removed]",
      "text/plain": [
       "<matplotlib.figure.Figure at 0x7f518ff645c0>"
      ]
     },
     "metadata": {},
     "output_type": "display_data"
    }
   ],
   "source": [
    "test_Whh = np.diag([2., 0.5, 1.0])\n",
    "test_params = (test_Wxh, test_Whh, test_Why, test_bh,test_by)\n",
    "test_lens = []\n",
    "dhs0 = []\n",
    "dhs1 = []\n",
    "dhs2 = []\n",
    "for sl in range(5,50):\n",
    "    test_lens.append(sl)\n",
    "    test_x, test_targets = train_x[0,0:sl], train_y[0, 0: sl]\n",
    "    loss, dWxh, dWhh, dWhy, dbh, dby, hnext, dhs = loss_rnn_one_sample(test_x, test_targets, h0, test_params)\n",
    "    dhs0.append(np.abs(dhs[0]))\n",
    "    dhs1.append(np.abs(dhs[1]))\n",
    "    dhs2.append(np.abs(dhs[2]))\n",
    "\n",
    "plt.plot(test_lens, dhs0)\n",
    "plt.show()\n",
    "plt.plot(test_lens, dhs1)\n",
    "plt.show()\n",
    "plt.plot(test_lens, dhs2)"
   ]
  },
  {
   "cell_type": "markdown",
   "metadata": {},
   "source": [
    "In the above, we vary the length of input sequence and draw the gradient with respect to $h_0$. We set $W_hh$ is a diagonal matrix with first eigenvalue > 1.0, the second < 1.0 and the third = 1.0\n",
    "\n",
    "From the plot, we see \n",
    "* gradient for $h_0[0]$ explode with respect to sequence-length => exploding Gradient\n",
    "* gradient for $h_0[1]$ become constant with respect to sequence-length => vanishing Gradient\n",
    "* gradient for $h_0[2]$ is normal since we set the third eigen-value = 1.0\n",
    "\n",
    "One can use gradient clipping to control exploding and LSTM to cure vanishing Gradient (in this note we only discuss RNN). \n",
    "\n",
    "## Mini-batches for Vanilla char-RNN with TensorFlow\n",
    "Let's implement gradient-clipping with TensorFlow and we will also implement mini-batches version instead of single input. Before doing the mini-batches version we need re-define the shape of our data\n",
    "\n",
    "* input_data: has shape (batch_size, seq_len) with each point is an int32\n",
    "* target_data: has same format as input_data\n",
    "\n",
    "At each time step $t$, instead of computing single hidden-state $h_t$ & single score $y_t$, we will update a vector of batch_size $h_t$ and $y_t$. We will learn how to\n",
    "\n",
    "* use [tf.squeeze](https://www.tensorflow.org/api_docs/python/tf/squeeze) to remove dimension of size 1, so that we can use matrix multiplication\n",
    "* use [tf.contrib.rnn.BasicRNNCell](https://www.tensorflow.org/api_docs/python/tf/contrib/rnn/BasicRNNCell)\n"
   ]
  },
  {
   "cell_type": "code",
   "execution_count": 4,
   "metadata": {
    "collapsed": true
   },
   "outputs": [],
   "source": [
    "def mini_batch_rnn(ch_size, batch_size = 50, seq_len = 25, hidden_size = 128, \n",
    "                   use_lstm = False, use_dropout = False, num_layers = 1,\n",
    "                   lr = 1e-3, grad_clip = 5.0, dtype = tf.float32):\n",
    "    '''\n",
    "    This implement mini-batch version for rnn\n",
    "    \n",
    "    Arguments\n",
    "    ---------------------\n",
    "        ch_size: size of all character in our training set\n",
    "        batch_size: number of input sequence per batch\n",
    "        seq_len: len of input sequence\n",
    "        hidden_size: size of hidden-state\n",
    "        lr: learning rate for optimizer\n",
    "        grad_clip: to clip the gradient to control exploding gradient\n",
    "    '''\n",
    "    # reset the graph\n",
    "    tf.reset_default_graph()\n",
    "    \n",
    "    # create placeholders\n",
    "    inputs = tf.placeholder(tf.int32, [batch_size, seq_len], name = 'inputs')\n",
    "    targets = tf.placeholder(tf.int32, [batch_size, seq_len], name = 'targets')    \n",
    "    \n",
    "    # Keep probability placeholder for drop out layers\n",
    "    keep_prob = tf.placeholder(dtype=dtype, name='keep_prob')\n",
    "    \n",
    "    # one-hot encoding\n",
    "    inputs_one_hot = tf.one_hot(inputs, ch_size, dtype = dtype) # this has shape (batch_size, seq_len, ch_size)\n",
    "    \n",
    "    # create rnn_inputs\n",
    "    # rnn_inputs[t] is inputs[:, t] in one-hot encoding\n",
    "    rnn_inputs = [tf.squeeze(i, axis=[1]) for i in tf.split(inputs_one_hot, seq_len, axis=1)]\n",
    "    \n",
    "    # create RNN layer + dropout\n",
    "    if use_lstm:\n",
    "        cell = tf.contrib.rnn.BasicLSTMCell(hidden_size)\n",
    "    else:\n",
    "        cell = tf.contrib.rnn.BasicRNNCell(hidden_size)\n",
    "    if use_dropout:\n",
    "        cell = tf.contrib.rnn.DropoutWrapper(cell, output_keep_prob=keep_prob)\n",
    "        \n",
    "    # stack up multiple RNN layers + get initial_state\n",
    "    if num_layers > 1:\n",
    "        cell = tf.contrib.rnn.MultiRNNCell([cell] * num_layers)\n",
    "    initial_state = cell.zero_state(batch_size, dtype)\n",
    "    \n",
    "    # compute h_t update via static_rnn: outputs is [h_t, t=1,...,n], final_state = h_n\n",
    "    outputs, final_state = tf.contrib.rnn.static_rnn(cell, rnn_inputs, initial_state=initial_state)\n",
    "        \n",
    "    # each outputs is h_t of size (batch_size, hidden_size) and len(outputs) = seq_len\n",
    "    # we concatenate by axis=1 so row i-th is stack h_1[i],...,h_n[i]\n",
    "    seq_output = tf.concat(outputs, axis=1)            # this has shape (batch_size, hidden_size * seq_len)\n",
    "    \n",
    "    # reshape so we can use matmul to produce y_t\n",
    "    output = tf.reshape(seq_output, [-1, hidden_size]) \n",
    "    \n",
    "    # create Why & by\n",
    "    with tf.variable_scope('softmax'):\n",
    "        vWhy = tf.Variable(tf.truncated_normal((hidden_size, ch_size), stddev=0.1, dtype = dtype), name = 'Why')\n",
    "        vby = tf.Variable(tf.zeros(ch_size, dtype = dtype), name = 'by', dtype = dtype)\n",
    "    \n",
    "    # compute y_t\n",
    "    logits = tf.matmul(output, vWhy) + vby\n",
    "    preds = tf.nn.softmax(logits, name='predictions')\n",
    "    \n",
    "    # reshape target so we can use Softmax loss\n",
    "    targets_reshaped = tf.reshape(targets, [-1])\n",
    "    cost = tf.reduce_sum(tf.nn.sparse_softmax_cross_entropy_with_logits(logits = logits, \n",
    "                                                                        labels = targets_reshaped))\n",
    "    \n",
    "    # we get trainable variables and clipped-gradients\n",
    "    tvars = tf.trainable_variables()\n",
    "    grads_raw = tf.gradients(cost, tvars)\n",
    "    grads, _ = tf.clip_by_global_norm(grads_raw, grad_clip)\n",
    "    \n",
    "    # we use AdamOptimizer so that learning_rate can be auto-ajust\n",
    "    train_op = tf.train.AdamOptimizer(learning_rate=lr)\n",
    "    \n",
    "    # we apply the gradient onto trainable variables note that we have already clipped gradients\n",
    "    optimizer = train_op.apply_gradients(zip(grads, tvars))\n",
    "    \n",
    "    # export the nodes\n",
    "    export_nodes = ['inputs', 'targets', 'keep_prob', 'initial_state', 'grads_raw', 'final_state', 'cost', 'preds', 'optimizer']\n",
    "    local_dict = locals()\n",
    "    \n",
    "    # use namedtuple to export nodes\n",
    "    VanillaRRN = namedtuple('VanillaRNN', export_nodes)\n",
    "    model = VanillaRRN(*[local_dict[node] for node in export_nodes])\n",
    "    \n",
    "    return model"
   ]
  },
  {
   "cell_type": "markdown",
   "metadata": {},
   "source": [
    "## Testing our model\n",
    "Since we have well tested base-model, it's always good idea to check our implementation v.s base-one. Note that in \n",
    "*BasicRNNCell*, the weights $W_{xh}$ and $W_{hh}$ are stacked together. The code below is a bit ugly since we have to hack the the initilization steps, but it works "
   ]
  },
  {
   "cell_type": "code",
   "execution_count": 38,
   "metadata": {
    "collapsed": false
   },
   "outputs": [
    {
     "name": "stdout",
     "output_type": "stream",
     "text": [
      "31.9850876069\n",
      "Rel error loss: 0.00000e+00\n",
      "Rel error dWxh: 1.05920e-12\n",
      "Rel error dWxh: 1.48028e-15\n",
      "Rel error dWxh: 3.55016e-14\n",
      "Rel error dby:  7.68366e-16\n"
     ]
    }
   ],
   "source": [
    "model = mini_batch_rnn(ch_size, batch_size=1, seq_len = 3, hidden_size=10, dtype = tf.float64)\n",
    "\n",
    "wxh_test = np.hstack([Wxh, Whh]).transpose()\n",
    "btest = bh.reshape(hidden_size,)\n",
    "\n",
    "with tf.Session() as sess:\n",
    "    sess.run(tf.global_variables_initializer())\n",
    "    for v in tf.trainable_variables():        \n",
    "        if (v.name == 'rnn/basic_rnn_cell/weights:0'):\n",
    "            _ = sess.run(tf.assign(v, wxh_test))\n",
    "        if (v.name == 'rnn/basic_rnn_cell/biases:0'):\n",
    "            _ = sess.run(tf.assign(v, btest))\n",
    "        \n",
    "        if (v.name == 'softmax/Why:0'):\n",
    "            _ = sess.run(tf.assign(v, Why.transpose()))\n",
    "            \n",
    "        if (v.name == 'softmax/by:0'):\n",
    "            _ = sess.run(tf.assign(v, by.reshape(ch_size,)))\n",
    "    \n",
    "    loss_rnn, grads_raw = sess.run([model.cost, model.grads_raw], \n",
    "                                   feed_dict = {model.inputs: x.reshape(1,3),\n",
    "                                                model.targets: targets.reshape(1,3),\n",
    "                                                model.keep_prob : 1.0})\n",
    "    print (loss_rnn)\n",
    "    \n",
    "    print('Rel error loss: {:10.5e}'.format(rel_error(loss, loss_rnn)))\n",
    "    print('Rel error dWxh: {:10.5e}'.format(rel_error(np.hstack([dWxh, dWhh]).transpose(), grads_raw[0])))    \n",
    "    print('Rel error dWxh: {:10.5e}'.format(rel_error(dbh.reshape(hidden_size,), grads_raw[1])))\n",
    "    print('Rel error dWxh: {:10.5e}'.format(rel_error(dWhy.transpose(), grads_raw[2])))\n",
    "    \n",
    "    print('Rel error dby:  {:10.5e}'.format(rel_error(dby.reshape(ch_size,), grads_raw[3])))\n",
    "    "
   ]
  },
  {
   "cell_type": "markdown",
   "metadata": {},
   "source": [
    "The relative errors are quite small, we are confident that it works as expected. Let's train our model\n",
    "\n",
    "## Training time\n",
    "Each time-step, we feed our model as mini-batch of data. It will update training variables and return a state back (*final_state*) in to the network so the next batch can continue the state from the previous batch. Note that, we have to\n",
    "\n",
    "* At each epoch, we have to reset initial_state back to 0.0\n",
    "* At each time we valuate on validation set, we have to reset initial_state back to 0.0\n",
    "\n",
    "We also save down a checkpoint so that we can re-use later, we use the following naming convention (taken from [Udacity](https://www.udacity.com/))"
   ]
  },
  {
   "cell_type": "code",
   "execution_count": 5,
   "metadata": {
    "collapsed": true
   },
   "outputs": [],
   "source": [
    "batch_size = 50\n",
    "seq_len = 25\n",
    "hidden_size = 128\n",
    "num_layers = 2\n",
    "keep_prob = 0.5\n",
    "learning_rate = 1e-3\n",
    "\n",
    "def get_batch(arrs, seq_len):\n",
    "    batch_size, slice_size = arrs[0].shape\n",
    "    \n",
    "    n_batches = int(slice_size/seq_len)\n",
    "    for b in range(n_batches):\n",
    "        yield [x[:, b*seq_len: (b+1)*seq_len] for x in arrs]"
   ]
  },
  {
   "cell_type": "code",
   "execution_count": 6,
   "metadata": {
    "collapsed": false
   },
   "outputs": [
    {
     "name": "stdout",
     "output_type": "stream",
     "text": [
      "Epoch 1/20  Iteration 100/28580 Training loss: 4136.5017 0.0126 sec/batch\n",
      "Epoch 1/20  Iteration 200/28580 Training loss: 3910.3344 0.0118 sec/batch\n",
      "Epoch 1/20  Iteration 300/28580 Training loss: 3731.1911 0.0140 sec/batch\n",
      "Epoch 1/20  Iteration 400/28580 Training loss: 3598.1606 0.0127 sec/batch\n",
      "Epoch 1/20  Iteration 500/28580 Training loss: 3496.4278 0.0185 sec/batch\n",
      "Validation loss: 2980.15 Saving checkpoint!\n",
      "Epoch 1/20  Iteration 600/28580 Training loss: 3417.7046 0.0151 sec/batch\n",
      "Epoch 1/20  Iteration 700/28580 Training loss: 3354.5244 0.0120 sec/batch\n",
      "Epoch 1/20  Iteration 800/28580 Training loss: 3302.7196 0.0120 sec/batch\n",
      "Epoch 1/20  Iteration 900/28580 Training loss: 3255.9259 0.0147 sec/batch\n",
      "Epoch 1/20  Iteration 1000/28580 Training loss: 3215.8239 0.0118 sec/batch\n",
      "Validation loss: 2746.1 Saving checkpoint!\n",
      "Epoch 1/20  Iteration 1100/28580 Training loss: 3178.6686 0.0128 sec/batch\n",
      "Epoch 1/20  Iteration 1200/28580 Training loss: 3148.1123 0.0120 sec/batch\n",
      "Epoch 1/20  Iteration 1300/28580 Training loss: 3120.4339 0.0121 sec/batch\n",
      "Epoch 1/20  Iteration 1400/28580 Training loss: 3094.3668 0.0189 sec/batch\n",
      "Epoch 2/20  Iteration 1500/28580 Training loss: 2724.6090 0.0119 sec/batch\n",
      "Validation loss: 2590.49 Saving checkpoint!\n",
      "Epoch 2/20  Iteration 1600/28580 Training loss: 2711.4251 0.0170 sec/batch\n",
      "Epoch 2/20  Iteration 1700/28580 Training loss: 2691.6595 0.0222 sec/batch\n",
      "Epoch 2/20  Iteration 1800/28580 Training loss: 2676.3410 0.0168 sec/batch\n",
      "Epoch 2/20  Iteration 1900/28580 Training loss: 2660.6824 0.0115 sec/batch\n",
      "Epoch 2/20  Iteration 2000/28580 Training loss: 2651.0783 0.0118 sec/batch\n",
      "Validation loss: 2470.0 Saving checkpoint!\n",
      "Epoch 2/20  Iteration 2100/28580 Training loss: 2641.3160 0.0181 sec/batch\n",
      "Epoch 2/20  Iteration 2200/28580 Training loss: 2632.9087 0.0120 sec/batch\n",
      "Epoch 2/20  Iteration 2300/28580 Training loss: 2623.2458 0.0124 sec/batch\n",
      "Epoch 2/20  Iteration 2400/28580 Training loss: 2614.0786 0.0159 sec/batch\n",
      "Epoch 2/20  Iteration 2500/28580 Training loss: 2606.1087 0.0118 sec/batch\n",
      "Validation loss: 2393.02 Saving checkpoint!\n",
      "Epoch 2/20  Iteration 2600/28580 Training loss: 2597.0415 0.0118 sec/batch\n",
      "Epoch 2/20  Iteration 2700/28580 Training loss: 2590.5758 0.0162 sec/batch\n",
      "Epoch 2/20  Iteration 2800/28580 Training loss: 2584.2045 0.0136 sec/batch\n",
      "Epoch 3/20  Iteration 2900/28580 Training loss: 2465.2297 0.0138 sec/batch\n",
      "Epoch 3/20  Iteration 3000/28580 Training loss: 2459.2498 0.0195 sec/batch\n",
      "Validation loss: 2311.77 Saving checkpoint!\n",
      "Epoch 3/20  Iteration 3100/28580 Training loss: 2452.3976 0.0118 sec/batch\n",
      "Epoch 3/20  Iteration 3200/28580 Training loss: 2443.2038 0.0120 sec/batch\n",
      "Epoch 3/20  Iteration 3300/28580 Training loss: 2431.3037 0.0120 sec/batch\n",
      "Epoch 3/20  Iteration 3400/28580 Training loss: 2426.5805 0.0123 sec/batch\n",
      "Epoch 3/20  Iteration 3500/28580 Training loss: 2419.8920 0.0179 sec/batch\n",
      "Validation loss: 2255.9 Saving checkpoint!\n",
      "Epoch 3/20  Iteration 3600/28580 Training loss: 2415.8266 0.0118 sec/batch\n",
      "Epoch 3/20  Iteration 3700/28580 Training loss: 2409.4420 0.0179 sec/batch\n",
      "Epoch 3/20  Iteration 3800/28580 Training loss: 2404.9310 0.0117 sec/batch\n",
      "Epoch 3/20  Iteration 3900/28580 Training loss: 2402.0643 0.0117 sec/batch\n",
      "Epoch 3/20  Iteration 4000/28580 Training loss: 2396.9839 0.0176 sec/batch\n",
      "Validation loss: 2213.69 Saving checkpoint!\n",
      "Epoch 3/20  Iteration 4100/28580 Training loss: 2394.0830 0.0124 sec/batch\n",
      "Epoch 3/20  Iteration 4200/28580 Training loss: 2391.5387 0.0121 sec/batch\n",
      "Epoch 4/20  Iteration 4300/28580 Training loss: 2334.2537 0.0165 sec/batch\n",
      "Epoch 4/20  Iteration 4400/28580 Training loss: 2322.9250 0.0116 sec/batch\n",
      "Epoch 4/20  Iteration 4500/28580 Training loss: 2320.5922 0.0120 sec/batch\n",
      "Validation loss: 2161.09 Saving checkpoint!\n",
      "Epoch 4/20  Iteration 4600/28580 Training loss: 2310.4793 0.0131 sec/batch\n",
      "Epoch 4/20  Iteration 4700/28580 Training loss: 2301.2519 0.0139 sec/batch\n",
      "Epoch 4/20  Iteration 4800/28580 Training loss: 2296.2580 0.0177 sec/batch\n",
      "Epoch 4/20  Iteration 4900/28580 Training loss: 2291.6483 0.0120 sec/batch\n",
      "Epoch 4/20  Iteration 5000/28580 Training loss: 2290.0260 0.0127 sec/batch\n",
      "Validation loss: 2127.39 Saving checkpoint!\n",
      "Epoch 4/20  Iteration 5100/28580 Training loss: 2286.6523 0.0174 sec/batch\n",
      "Epoch 4/20  Iteration 5200/28580 Training loss: 2283.3672 0.0185 sec/batch\n",
      "Epoch 4/20  Iteration 5300/28580 Training loss: 2281.9765 0.0128 sec/batch\n",
      "Epoch 4/20  Iteration 5400/28580 Training loss: 2279.6089 0.0161 sec/batch\n",
      "Epoch 4/20  Iteration 5500/28580 Training loss: 2277.0570 0.0145 sec/batch\n",
      "Validation loss: 2101.16 Saving checkpoint!\n",
      "Epoch 4/20  Iteration 5600/28580 Training loss: 2276.6697 0.0120 sec/batch\n",
      "Epoch 4/20  Iteration 5700/28580 Training loss: 2274.8026 0.0118 sec/batch\n",
      "Epoch 5/20  Iteration 5800/28580 Training loss: 2231.7913 0.0128 sec/batch\n",
      "Epoch 5/20  Iteration 5900/28580 Training loss: 2229.2160 0.0113 sec/batch\n",
      "Epoch 5/20  Iteration 6000/28580 Training loss: 2220.6815 0.0122 sec/batch\n",
      "Validation loss: 2068.08 Saving checkpoint!\n",
      "Epoch 5/20  Iteration 6100/28580 Training loss: 2212.7822 0.0159 sec/batch\n",
      "Epoch 5/20  Iteration 6200/28580 Training loss: 2207.3413 0.0116 sec/batch\n",
      "Epoch 5/20  Iteration 6300/28580 Training loss: 2204.9479 0.0160 sec/batch\n",
      "Epoch 5/20  Iteration 6400/28580 Training loss: 2202.4336 0.0146 sec/batch\n",
      "Epoch 5/20  Iteration 6500/28580 Training loss: 2202.0247 0.0128 sec/batch\n",
      "Validation loss: 2056.77 Saving checkpoint!\n",
      "Epoch 5/20  Iteration 6600/28580 Training loss: 2199.5982 0.0122 sec/batch\n",
      "Epoch 5/20  Iteration 6700/28580 Training loss: 2199.1817 0.0125 sec/batch\n",
      "Epoch 5/20  Iteration 6800/28580 Training loss: 2198.9645 0.0116 sec/batch\n",
      "Epoch 5/20  Iteration 6900/28580 Training loss: 2196.2707 0.0115 sec/batch\n",
      "Epoch 5/20  Iteration 7000/28580 Training loss: 2195.9998 0.0141 sec/batch\n",
      "Validation loss: 2026.71 Saving checkpoint!\n",
      "Epoch 5/20  Iteration 7100/28580 Training loss: 2195.7634 0.0119 sec/batch\n",
      "Epoch 6/20  Iteration 7200/28580 Training loss: 2166.7306 0.0125 sec/batch\n",
      "Epoch 6/20  Iteration 7300/28580 Training loss: 2171.3913 0.0119 sec/batch\n",
      "Epoch 6/20  Iteration 7400/28580 Training loss: 2162.1012 0.0117 sec/batch\n",
      "Epoch 6/20  Iteration 7500/28580 Training loss: 2154.3448 0.0167 sec/batch\n",
      "Validation loss: 2006.71 Saving checkpoint!\n",
      "Epoch 6/20  Iteration 7600/28580 Training loss: 2147.2826 0.0158 sec/batch\n",
      "Epoch 6/20  Iteration 7700/28580 Training loss: 2146.2887 0.0150 sec/batch\n",
      "Epoch 6/20  Iteration 7800/28580 Training loss: 2142.6955 0.0118 sec/batch\n",
      "Epoch 6/20  Iteration 7900/28580 Training loss: 2142.1725 0.0117 sec/batch\n",
      "Epoch 6/20  Iteration 8000/28580 Training loss: 2140.1554 0.0120 sec/batch\n",
      "Validation loss: 1992.19 Saving checkpoint!\n",
      "Epoch 6/20  Iteration 8100/28580 Training loss: 2139.4993 0.0132 sec/batch\n",
      "Epoch 6/20  Iteration 8200/28580 Training loss: 2140.3230 0.0125 sec/batch\n",
      "Epoch 6/20  Iteration 8300/28580 Training loss: 2138.1994 0.0178 sec/batch\n",
      "Epoch 6/20  Iteration 8400/28580 Training loss: 2138.1179 0.0166 sec/batch\n",
      "Epoch 6/20  Iteration 8500/28580 Training loss: 2138.9479 0.0119 sec/batch\n"
     ]
    },
    {
     "ename": "KeyboardInterrupt",
     "evalue": "",
     "output_type": "error",
     "traceback": [
      "\u001b[0;31m---------------------------------------------------------------------------\u001b[0m",
      "\u001b[0;31mKeyboardInterrupt\u001b[0m                         Traceback (most recent call last)",
      "\u001b[0;32m<ipython-input-6-f903cafab2e6>\u001b[0m in \u001b[0;36m<module>\u001b[0;34m()\u001b[0m\n\u001b[1;32m     47\u001b[0m                             \u001b[0mmodel\u001b[0m\u001b[0;34m.\u001b[0m\u001b[0mkeep_prob\u001b[0m\u001b[0;34m:\u001b[0m \u001b[0;36m1.\u001b[0m\u001b[0;34m,\u001b[0m\u001b[0;34m\u001b[0m\u001b[0m\n\u001b[1;32m     48\u001b[0m                             model.initial_state: new_state}\n\u001b[0;32m---> 49\u001b[0;31m                     \u001b[0mbatch_loss\u001b[0m\u001b[0;34m,\u001b[0m \u001b[0mnew_state\u001b[0m \u001b[0;34m=\u001b[0m \u001b[0msess\u001b[0m\u001b[0;34m.\u001b[0m\u001b[0mrun\u001b[0m\u001b[0;34m(\u001b[0m\u001b[0;34m[\u001b[0m\u001b[0mmodel\u001b[0m\u001b[0;34m.\u001b[0m\u001b[0mcost\u001b[0m\u001b[0;34m,\u001b[0m \u001b[0mmodel\u001b[0m\u001b[0;34m.\u001b[0m\u001b[0mfinal_state\u001b[0m\u001b[0;34m]\u001b[0m\u001b[0;34m,\u001b[0m \u001b[0mfeed_dict\u001b[0m\u001b[0;34m=\u001b[0m\u001b[0mfeed\u001b[0m\u001b[0;34m)\u001b[0m\u001b[0;34m\u001b[0m\u001b[0m\n\u001b[0m\u001b[1;32m     50\u001b[0m                     \u001b[0mval_loss\u001b[0m\u001b[0;34m.\u001b[0m\u001b[0mappend\u001b[0m\u001b[0;34m(\u001b[0m\u001b[0mbatch_loss\u001b[0m\u001b[0;34m)\u001b[0m\u001b[0;34m\u001b[0m\u001b[0m\n\u001b[1;32m     51\u001b[0m \u001b[0;34m\u001b[0m\u001b[0m\n",
      "\u001b[0;32m/home/minhvu/workplaces/infra/anaconda3/envs/build_tf_gpu/lib/python3.5/site-packages/tensorflow/python/client/session.py\u001b[0m in \u001b[0;36mrun\u001b[0;34m(self, fetches, feed_dict, options, run_metadata)\u001b[0m\n\u001b[1;32m    765\u001b[0m     \u001b[0;32mtry\u001b[0m\u001b[0;34m:\u001b[0m\u001b[0;34m\u001b[0m\u001b[0m\n\u001b[1;32m    766\u001b[0m       result = self._run(None, fetches, feed_dict, options_ptr,\n\u001b[0;32m--> 767\u001b[0;31m                          run_metadata_ptr)\n\u001b[0m\u001b[1;32m    768\u001b[0m       \u001b[0;32mif\u001b[0m \u001b[0mrun_metadata\u001b[0m\u001b[0;34m:\u001b[0m\u001b[0;34m\u001b[0m\u001b[0m\n\u001b[1;32m    769\u001b[0m         \u001b[0mproto_data\u001b[0m \u001b[0;34m=\u001b[0m \u001b[0mtf_session\u001b[0m\u001b[0;34m.\u001b[0m\u001b[0mTF_GetBuffer\u001b[0m\u001b[0;34m(\u001b[0m\u001b[0mrun_metadata_ptr\u001b[0m\u001b[0;34m)\u001b[0m\u001b[0;34m\u001b[0m\u001b[0m\n",
      "\u001b[0;32m/home/minhvu/workplaces/infra/anaconda3/envs/build_tf_gpu/lib/python3.5/site-packages/tensorflow/python/client/session.py\u001b[0m in \u001b[0;36m_run\u001b[0;34m(self, handle, fetches, feed_dict, options, run_metadata)\u001b[0m\n\u001b[1;32m    963\u001b[0m     \u001b[0;32mif\u001b[0m \u001b[0mfinal_fetches\u001b[0m \u001b[0;32mor\u001b[0m \u001b[0mfinal_targets\u001b[0m\u001b[0;34m:\u001b[0m\u001b[0;34m\u001b[0m\u001b[0m\n\u001b[1;32m    964\u001b[0m       results = self._do_run(handle, final_targets, final_fetches,\n\u001b[0;32m--> 965\u001b[0;31m                              feed_dict_string, options, run_metadata)\n\u001b[0m\u001b[1;32m    966\u001b[0m     \u001b[0;32melse\u001b[0m\u001b[0;34m:\u001b[0m\u001b[0;34m\u001b[0m\u001b[0m\n\u001b[1;32m    967\u001b[0m       \u001b[0mresults\u001b[0m \u001b[0;34m=\u001b[0m \u001b[0;34m[\u001b[0m\u001b[0;34m]\u001b[0m\u001b[0;34m\u001b[0m\u001b[0m\n",
      "\u001b[0;32m/home/minhvu/workplaces/infra/anaconda3/envs/build_tf_gpu/lib/python3.5/site-packages/tensorflow/python/client/session.py\u001b[0m in \u001b[0;36m_do_run\u001b[0;34m(self, handle, target_list, fetch_list, feed_dict, options, run_metadata)\u001b[0m\n\u001b[1;32m   1013\u001b[0m     \u001b[0;32mif\u001b[0m \u001b[0mhandle\u001b[0m \u001b[0;32mis\u001b[0m \u001b[0;32mNone\u001b[0m\u001b[0;34m:\u001b[0m\u001b[0;34m\u001b[0m\u001b[0m\n\u001b[1;32m   1014\u001b[0m       return self._do_call(_run_fn, self._session, feed_dict, fetch_list,\n\u001b[0;32m-> 1015\u001b[0;31m                            target_list, options, run_metadata)\n\u001b[0m\u001b[1;32m   1016\u001b[0m     \u001b[0;32melse\u001b[0m\u001b[0;34m:\u001b[0m\u001b[0;34m\u001b[0m\u001b[0m\n\u001b[1;32m   1017\u001b[0m       return self._do_call(_prun_fn, self._session, handle, feed_dict,\n",
      "\u001b[0;32m/home/minhvu/workplaces/infra/anaconda3/envs/build_tf_gpu/lib/python3.5/site-packages/tensorflow/python/client/session.py\u001b[0m in \u001b[0;36m_do_call\u001b[0;34m(self, fn, *args)\u001b[0m\n\u001b[1;32m   1020\u001b[0m   \u001b[0;32mdef\u001b[0m \u001b[0m_do_call\u001b[0m\u001b[0;34m(\u001b[0m\u001b[0mself\u001b[0m\u001b[0;34m,\u001b[0m \u001b[0mfn\u001b[0m\u001b[0;34m,\u001b[0m \u001b[0;34m*\u001b[0m\u001b[0margs\u001b[0m\u001b[0;34m)\u001b[0m\u001b[0;34m:\u001b[0m\u001b[0;34m\u001b[0m\u001b[0m\n\u001b[1;32m   1021\u001b[0m     \u001b[0;32mtry\u001b[0m\u001b[0;34m:\u001b[0m\u001b[0;34m\u001b[0m\u001b[0m\n\u001b[0;32m-> 1022\u001b[0;31m       \u001b[0;32mreturn\u001b[0m \u001b[0mfn\u001b[0m\u001b[0;34m(\u001b[0m\u001b[0;34m*\u001b[0m\u001b[0margs\u001b[0m\u001b[0;34m)\u001b[0m\u001b[0;34m\u001b[0m\u001b[0m\n\u001b[0m\u001b[1;32m   1023\u001b[0m     \u001b[0;32mexcept\u001b[0m \u001b[0merrors\u001b[0m\u001b[0;34m.\u001b[0m\u001b[0mOpError\u001b[0m \u001b[0;32mas\u001b[0m \u001b[0me\u001b[0m\u001b[0;34m:\u001b[0m\u001b[0;34m\u001b[0m\u001b[0m\n\u001b[1;32m   1024\u001b[0m       \u001b[0mmessage\u001b[0m \u001b[0;34m=\u001b[0m \u001b[0mcompat\u001b[0m\u001b[0;34m.\u001b[0m\u001b[0mas_text\u001b[0m\u001b[0;34m(\u001b[0m\u001b[0me\u001b[0m\u001b[0;34m.\u001b[0m\u001b[0mmessage\u001b[0m\u001b[0;34m)\u001b[0m\u001b[0;34m\u001b[0m\u001b[0m\n",
      "\u001b[0;32m/home/minhvu/workplaces/infra/anaconda3/envs/build_tf_gpu/lib/python3.5/site-packages/tensorflow/python/client/session.py\u001b[0m in \u001b[0;36m_run_fn\u001b[0;34m(session, feed_dict, fetch_list, target_list, options, run_metadata)\u001b[0m\n\u001b[1;32m   1002\u001b[0m         return tf_session.TF_Run(session, options,\n\u001b[1;32m   1003\u001b[0m                                  \u001b[0mfeed_dict\u001b[0m\u001b[0;34m,\u001b[0m \u001b[0mfetch_list\u001b[0m\u001b[0;34m,\u001b[0m \u001b[0mtarget_list\u001b[0m\u001b[0;34m,\u001b[0m\u001b[0;34m\u001b[0m\u001b[0m\n\u001b[0;32m-> 1004\u001b[0;31m                                  status, run_metadata)\n\u001b[0m\u001b[1;32m   1005\u001b[0m \u001b[0;34m\u001b[0m\u001b[0m\n\u001b[1;32m   1006\u001b[0m     \u001b[0;32mdef\u001b[0m \u001b[0m_prun_fn\u001b[0m\u001b[0;34m(\u001b[0m\u001b[0msession\u001b[0m\u001b[0;34m,\u001b[0m \u001b[0mhandle\u001b[0m\u001b[0;34m,\u001b[0m \u001b[0mfeed_dict\u001b[0m\u001b[0;34m,\u001b[0m \u001b[0mfetch_list\u001b[0m\u001b[0;34m)\u001b[0m\u001b[0;34m:\u001b[0m\u001b[0;34m\u001b[0m\u001b[0m\n",
      "\u001b[0;31mKeyboardInterrupt\u001b[0m: "
     ]
    }
   ],
   "source": [
    "model = mini_batch_rnn(ch_size, batch_size=batch_size, \n",
    "                       seq_len = seq_len, hidden_size=hidden_size, \n",
    "                       use_lstm = True, use_dropout=True, num_layers = 1, \n",
    "                       lr = learning_rate)\n",
    "saver = tf.train.Saver(max_to_keep=100)\n",
    "\n",
    "epochs = 20\n",
    "save_every_n = 500\n",
    "print_every = 100\n",
    "with tf.Session() as sess:\n",
    "    sess.run(tf.global_variables_initializer())\n",
    "    \n",
    "    # Use the line below to load a checkpoint and resume training\n",
    "    #saver.restore(sess, 'checkpoints/______.ckpt')\n",
    "    \n",
    "    n_batches = int(train_x.shape[1]/seq_len)\n",
    "    iterations = n_batches * epochs\n",
    "    for e in range(epochs):\n",
    "        # Train network\n",
    "        new_state = sess.run(model.initial_state)\n",
    "        loss = 0\n",
    "        for b, (x, y) in enumerate(get_batch([train_x, train_y], seq_len), 1):\n",
    "            iteration = e*n_batches + b\n",
    "            start = time.time()\n",
    "            feed = {model.inputs: x,\n",
    "                    model.targets: y,\n",
    "                    model.keep_prob: keep_prob,\n",
    "                    model.initial_state: new_state}\n",
    "            batch_loss, new_state, _ = sess.run([model.cost, model.final_state, model.optimizer], \n",
    "                                                 feed_dict=feed)\n",
    "            loss += batch_loss\n",
    "            end = time.time()\n",
    "            if (iteration % print_every == 0):\n",
    "                print('Epoch {}/{} '.format(e+1, epochs),\n",
    "                      'Iteration {}/{}'.format(iteration, iterations),\n",
    "                      'Training loss: {:.4f}'.format(loss/b),\n",
    "                      '{:.4f} sec/batch'.format((end-start)))\n",
    "        \n",
    "            \n",
    "            if (iteration%save_every_n == 0) or (iteration == iterations):\n",
    "                # Check performance, notice dropout has been set to 1\n",
    "                val_loss = []\n",
    "                new_state = sess.run(model.initial_state)\n",
    "                for x, y in get_batch([val_x, val_y], seq_len):\n",
    "                    feed = {model.inputs: x,\n",
    "                            model.targets: y,\n",
    "                            model.keep_prob: 1.,\n",
    "                            model.initial_state: new_state}\n",
    "                    batch_loss, new_state = sess.run([model.cost, model.final_state], feed_dict=feed)\n",
    "                    val_loss.append(batch_loss)\n",
    "\n",
    "                print('Validation loss:', np.mean(val_loss),\n",
    "                      'Saving checkpoint!')\n",
    "                saver.save(sess, \"./checkpoints/i{}_l{}_v{:.3f}.ckpt\".format(iteration, hidden_size, np.mean(val_loss)))"
   ]
  },
  {
   "cell_type": "code",
   "execution_count": 43,
   "metadata": {
    "collapsed": true
   },
   "outputs": [],
   "source": [
    "def pick_top_n(preds, vocab_size, top_n=5):\n",
    "    p = np.squeeze(preds)\n",
    "    p[np.argsort(p)[:-top_n]] = 0\n",
    "    p = p / np.sum(p)\n",
    "    c = np.random.choice(vocab_size, 1, p=p)[0]\n",
    "    return c\n",
    "\n",
    "def sample(checkpoint, n_samples, hidden_size, ch_size, prime=\"The \"):\n",
    "    samples = [c for c in prime]\n",
    "    model = mini_batch_rnn(ch_size, use_lstm=True, use_dropout=True, num_layers=1, batch_size = 1, seq_len = 1, hidden_size=hidden_size)\n",
    "    saver = tf.train.Saver()\n",
    "    with tf.Session() as sess:\n",
    "        saver.restore(sess, checkpoint)\n",
    "        new_state = sess.run(model.initial_state)\n",
    "        for c in prime:\n",
    "            x = np.zeros((1, 1))\n",
    "            x[0,0] = ch_to_int[c]\n",
    "            feed = {model.inputs: x,\n",
    "                    model.keep_prob: 1.,\n",
    "                    model.initial_state: new_state}\n",
    "            preds, new_state = sess.run([model.preds, model.final_state], \n",
    "                                         feed_dict=feed)\n",
    "\n",
    "        c = pick_top_n(preds, ch_size)\n",
    "        samples.append(int_to_ch[c])\n",
    "\n",
    "        for i in range(n_samples):\n",
    "            x[0,0] = c\n",
    "            feed = {model.inputs: x,\n",
    "                    model.keep_prob: 1.,\n",
    "                    model.initial_state: new_state}\n",
    "            preds, new_state = sess.run([model.preds, model.final_state], \n",
    "                                         feed_dict=feed)\n",
    "\n",
    "            c = pick_top_n(preds, ch_size)\n",
    "            samples.append(int_to_ch[c])\n",
    "        \n",
    "    return ''.join(samples)"
   ]
  },
  {
   "cell_type": "code",
   "execution_count": 48,
   "metadata": {
    "collapsed": false
   },
   "outputs": [
    {
     "name": "stdout",
     "output_type": "stream",
     "text": [
      "The askander one to have as he said the missed her a cannabing, standed\n",
      "ofter that he was seet her at the storse, though she heard talking his troat, she had been to thim to say, which all had the some st\n"
     ]
    }
   ],
   "source": [
    "checkpoint = 'checkpoints/i28500_l128_v1753.467.ckpt'\n",
    "samp = sample(checkpoint, 200, hidden_size, ch_size, prime=\"The\")\n",
    "print(samp)"
   ]
  }
 ],
 "metadata": {
  "kernelspec": {
   "display_name": "Python 3",
   "language": "python",
   "name": "python3"
  },
  "language_info": {
   "codemirror_mode": {
    "name": "ipython",
    "version": 3
   },
   "file_extension": ".py",
   "mimetype": "text/x-python",
   "name": "python",
   "nbconvert_exporter": "python",
   "pygments_lexer": "ipython3",
   "version": "3.5.3"
  }
 },
 "nbformat": 4,
 "nbformat_minor": 2
}
