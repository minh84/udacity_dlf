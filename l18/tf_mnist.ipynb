{
 "cells": [
  {
   "cell_type": "markdown",
   "metadata": {},
   "source": [
    "### Deep Neural Network in TensorFlow\n",
    "\n",
    "In the following, we'll use TensorFlow to classify the letters in the MNIST database. "
   ]
  },
  {
   "cell_type": "code",
   "execution_count": 2,
   "metadata": {
    "collapsed": false
   },
   "outputs": [
    {
     "name": "stdout",
     "output_type": "stream",
     "text": [
      "Successfully downloaded train-images-idx3-ubyte.gz 9912422 bytes.\n",
      "Extracting .\\train-images-idx3-ubyte.gz\n",
      "Successfully downloaded train-labels-idx1-ubyte.gz 28881 bytes.\n",
      "Extracting .\\train-labels-idx1-ubyte.gz\n",
      "Successfully downloaded t10k-images-idx3-ubyte.gz 1648877 bytes.\n",
      "Extracting .\\t10k-images-idx3-ubyte.gz\n",
      "Successfully downloaded t10k-labels-idx1-ubyte.gz 4542 bytes.\n",
      "Extracting .\\t10k-labels-idx1-ubyte.gz\n"
     ]
    }
   ],
   "source": [
    "from tensorflow.examples.tutorials.mnist import input_data\n",
    "\n",
    "mnist = input_data.read_data_sets('.', one_hot=True, reshape=False)"
   ]
  },
  {
   "cell_type": "markdown",
   "metadata": {},
   "source": [
    "### MNIST database\n",
    "Let's inspect the data a bit"
   ]
  },
  {
   "cell_type": "code",
   "execution_count": 65,
   "metadata": {
    "collapsed": false
   },
   "outputs": [
    {
     "name": "stdout",
     "output_type": "stream",
     "text": [
      "number of training point: 55000\n",
      "shape of training data:   (55000, 28, 28, 1)\n",
      "labels histogram\n"
     ]
    },
    {
     "data": {
      "text/plain": [
       "<Container object of 10 artists>"
      ]
     },
     "execution_count": 65,
     "metadata": {},
     "output_type": "execute_result"
    },
    {
     "data": {
      "image/png": "[encoded data removed]",
      "text/plain": [
       "<matplotlib.figure.Figure at 0x1450e95dcc0>"
      ]
     },
     "metadata": {},
     "output_type": "display_data"
    }
   ],
   "source": [
    "%matplotlib inline\n",
    "import numpy as np\n",
    "import matplotlib.pyplot as plt\n",
    "\n",
    "print('number of training point:', mnist.train.num_examples)\n",
    "print('shape of training data:  ', mnist.train.images.shape)\n",
    "labels = np.argwhere(mnist.train.labels==1)[:,1]\n",
    "hist, bins = np.histogram(labels, bins=10)\n",
    "width = 0.7 * (bins[1] - bins[0])\n",
    "center = (bins[:-1] + bins[1:]) / 2\n",
    "print('labels histogram')\n",
    "plt.bar(center, hist, align='center', width=width)"
   ]
  },
  {
   "cell_type": "markdown",
   "metadata": {},
   "source": [
    "### Learning parameters\n",
    "We define some global parameters"
   ]
  },
  {
   "cell_type": "code",
   "execution_count": 134,
   "metadata": {
    "collapsed": true
   },
   "outputs": [],
   "source": [
    "import tensorflow as tf\n",
    "\n",
    "# alway reset everything\n",
    "tf.reset_default_graph()\n",
    "\n",
    "# optimize parameters\n",
    "learning_rate = 0.001\n",
    "training_epochs = 10\n",
    "batch_size = 128\n",
    "display_step = 1\n",
    "\n",
    "n_input = 784     # 28 x 28 (img shape: 28 * 28 * 1)\n",
    "n_classes = 10    # mnist it to classify 0->9"
   ]
  },
  {
   "cell_type": "markdown",
   "metadata": {},
   "source": [
    "### Network parameters\n",
    "We define some parameter/variables for our neural networks"
   ]
  },
  {
   "cell_type": "code",
   "execution_count": 135,
   "metadata": {
    "collapsed": false
   },
   "outputs": [],
   "source": [
    "n_hidden_layer = 256 # number of neuron in hidden layer\n",
    "\n",
    "weights = {'hidden_layer' : tf.Variable(tf.random_normal([n_input, n_hidden_layer], name = 'W_0')),\n",
    "           'out' : tf.Variable(tf.random_normal([n_hidden_layer, n_classes]), name = 'W_1')}\n",
    "\n",
    "biases = {'hidden_layer' : tf.Variable(tf.random_normal([n_hidden_layer]), name = 'b_0'),\n",
    "          'out' : tf.Variable(tf.random_normal([n_classes]), name = 'b_1')}\n",
    "\n",
    "# we define input and flatten it\n",
    "x = tf.placeholder('float', [None, 28,28,1], name = 'input_x')\n",
    "y = tf.placeholder('float', [None, n_classes], name = 'target_y')\n",
    "x_flat = tf.reshape(x,[-1, n_input], name = 'input_x_flat')"
   ]
  },
  {
   "cell_type": "markdown",
   "metadata": {},
   "source": [
    "### Multilayer perceptron with ReLU\n",
    "We define our layer with ReLU as following"
   ]
  },
  {
   "cell_type": "code",
   "execution_count": 136,
   "metadata": {
    "collapsed": true
   },
   "outputs": [],
   "source": [
    "# affine layer\n",
    "layer_1 = tf.add(tf.matmul(x_flat, weights['hidden_layer']), biases['hidden_layer'])\n",
    "\n",
    "# relu layer\n",
    "layer_1 = tf.nn.relu(layer_1)\n",
    "\n",
    "# output layer\n",
    "logits = tf.add(tf.matmul(layer_1, weights['out']), biases['out'])"
   ]
  },
  {
   "cell_type": "markdown",
   "metadata": {},
   "source": [
    "###  Loss function and Optimizer\n",
    "The logists with be size of N x n_classes where N = number of samples and n_classes = 10. We need to define a loss function and choose an optimizer. We use the following loss $ L = \\frac{1}{N}\\sum L_i$ where $L_i$ is given by\n",
    "$$L_i = \\sum_{j=0}^{9}  -\\log(\\mathrm{logits}[i,j])\\times y[i,j]$$\n",
    "\n",
    "Regarding the optimizer, we use the simple Gradient Descent to minimize the loss"
   ]
  },
  {
   "cell_type": "code",
   "execution_count": 137,
   "metadata": {
    "collapsed": false
   },
   "outputs": [],
   "source": [
    "cost = tf.reduce_mean(tf.nn.softmax_cross_entropy_with_logits(logits, y))\n",
    "optimizer = tf.train.GradientDescentOptimizer(learning_rate = learning_rate).minimize(cost)\n",
    "\n",
    "# we define accuracy to measure the performance\n",
    "correct_prediction = tf.equal(tf.argmax(y,1), tf.argmax(logits,1))\n",
    "accuracy = tf.reduce_mean(tf.cast(correct_prediction, tf.float32))"
   ]
  },
  {
   "cell_type": "markdown",
   "metadata": {},
   "source": [
    "### Try it out\n",
    "We are ready to run it and measure the performance inside each loop. After the model is trained, we save it to a file."
   ]
  },
  {
   "cell_type": "code",
   "execution_count": 138,
   "metadata": {
    "collapsed": false
   },
   "outputs": [
    {
     "name": "stdout",
     "output_type": "stream",
     "text": [
      "Epoch   0 train-acc 0.378 vs val-acc 0.383\n",
      "Epoch   1 train-acc 0.532 vs val-acc 0.538\n",
      "Epoch   2 train-acc 0.611 vs val-acc 0.626\n",
      "Epoch   3 train-acc 0.661 vs val-acc 0.677\n",
      "Epoch   4 train-acc 0.692 vs val-acc 0.709\n",
      "Epoch   5 train-acc 0.716 vs val-acc 0.729\n",
      "Epoch   6 train-acc 0.735 vs val-acc 0.747\n",
      "Epoch   7 train-acc 0.750 vs val-acc 0.760\n",
      "Epoch   8 train-acc 0.762 vs val-acc 0.774\n",
      "Epoch   9 train-acc 0.772 vs val-acc 0.782\n",
      "saved x:      input_x:0\n",
      "saved y:      target_y:0\n",
      "saved x_flat: input_x_flat:0\n"
     ]
    }
   ],
   "source": [
    "init = tf.global_variables_initializer()\n",
    "\n",
    "sess = tf.Session()\n",
    "sess.run(init)  # we need to run this to initialize all variables\n",
    "\n",
    "# training loop\n",
    "num_batch_per_epoch = int(mnist.train.num_examples/batch_size)\n",
    "\n",
    "for epoch in range(training_epochs):\n",
    "    for i in range(num_batch_per_epoch):\n",
    "        batch_x, batch_y = mnist.train.next_batch(batch_size)   # get batch sample\n",
    "        sess.run(optimizer, feed_dict = {x : batch_x, y : batch_y})\n",
    "    \n",
    "    train_acc = sess.run(accuracy, feed_dict={x: mnist.train.images, y: mnist.train.labels})\n",
    "    val_acc = sess.run(accuracy, feed_dict={x: mnist.validation.images, y: mnist.validation.labels})\n",
    "    \n",
    "    print('Epoch %3d train-acc %5.3f vs val-acc %5.3f' % (epoch, train_acc, val_acc))\n",
    "\n",
    "save_file = './tf_mnist_trained/model.ckpt'\n",
    "saver = tf.train.Saver()\n",
    "saver.save(sess, save_file)\n",
    "\n",
    "print('saved x:      {}'.format(x.name))\n",
    "print('saved y:      {}'.format(y.name))\n",
    "print('saved x_flat: {}'.format(x_flat.name))"
   ]
  },
  {
   "cell_type": "markdown",
   "metadata": {},
   "source": [
    "### Measure the accuracy\n",
    "We need to measure the accuracy in the separated test-set"
   ]
  },
  {
   "cell_type": "code",
   "execution_count": 130,
   "metadata": {
    "collapsed": false
   },
   "outputs": [
    {
     "name": "stdout",
     "output_type": "stream",
     "text": [
      "Accuracy on test-set: 0.783\n"
     ]
    }
   ],
   "source": [
    "print('Accuracy on test-set: %5.3f' % sess.run(accuracy, feed_dict={x: mnist.test.images, y: mnist.test.labels}))"
   ]
  },
  {
   "cell_type": "markdown",
   "metadata": {},
   "source": [
    "### Load trained model\n",
    "We can reload the model from file. Note that, we need to ensure the name is matched and we "
   ]
  },
  {
   "cell_type": "code",
   "execution_count": 139,
   "metadata": {
    "collapsed": false
   },
   "outputs": [
    {
     "name": "stdout",
     "output_type": "stream",
     "text": [
      "name x:      input_x:0\n",
      "name y:      target_y:0\n",
      "name x_flat: input_x_flat:0\n",
      "Test Accuracy: 0.7825999855995178\n"
     ]
    }
   ],
   "source": [
    "# reset everything\n",
    "tf.reset_default_graph()\n",
    "\n",
    "n_hidden_layer = 256 # number of neuron in hidden layer\n",
    "\n",
    "weights = {'hidden_layer' : tf.Variable(tf.random_normal([n_input, n_hidden_layer], name = 'W_0')),\n",
    "           'out' : tf.Variable(tf.random_normal([n_hidden_layer, n_classes]), name = 'W_1')}\n",
    "\n",
    "biases = {'hidden_layer' : tf.Variable(tf.random_normal([n_hidden_layer]), name = 'b_0'),\n",
    "          'out' : tf.Variable(tf.random_normal([n_classes]), name = 'b_1')}\n",
    "\n",
    "# we define input and flatten it\n",
    "x = tf.placeholder('float', [None, 28,28,1], name = 'input_x')\n",
    "y = tf.placeholder('float', [None, n_classes], name = 'target_y')\n",
    "x_flat = tf.reshape(x,[-1, n_input], name = 'input_x_flat')\n",
    "\n",
    "print('name x:      {}'.format(x.name))\n",
    "print('name y:      {}'.format(y.name))\n",
    "print('name x_flat: {}'.format(x_flat.name))\n",
    "\n",
    "# affine layer\n",
    "layer_1 = tf.add(tf.matmul(x_flat, weights['hidden_layer']), biases['hidden_layer'])\n",
    "\n",
    "# relu layer\n",
    "layer_1 = tf.nn.relu(layer_1)\n",
    "\n",
    "# output layer\n",
    "logits = tf.add(tf.matmul(layer_1, weights['out']), biases['out'])\n",
    "\n",
    "# we define accuracy to measure the performance\n",
    "correct_prediction = tf.equal(tf.argmax(y,1), tf.argmax(logits,1))\n",
    "accuracy = tf.reduce_mean(tf.cast(correct_prediction, tf.float32))\n",
    "\n",
    "saver = tf.train.Saver()\n",
    "\n",
    "# Launch the graph\n",
    "with tf.Session() as sess:\n",
    "    saver.restore(sess, save_file)\n",
    "\n",
    "    test_accuracy = sess.run(\n",
    "        accuracy,\n",
    "        feed_dict={x: mnist.test.images, y: mnist.test.labels})\n",
    "    print('Test Accuracy: {}'.format(test_accuracy))"
   ]
  }
 ],
 "metadata": {
  "kernelspec": {
   "display_name": "Python 3",
   "language": "python",
   "name": "python3"
  },
  "language_info": {
   "codemirror_mode": {
    "name": "ipython",
    "version": 3.0
   },
   "file_extension": ".py",
   "mimetype": "text/x-python",
   "name": "python",
   "nbconvert_exporter": "python",
   "pygments_lexer": "ipython3",
   "version": "3.5.2"
  }
 },
 "nbformat": 4,
 "nbformat_minor": 0
}